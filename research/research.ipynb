{
 "cells": [
  {
   "cell_type": "markdown",
   "id": "4521f3d0",
   "metadata": {},
   "source": [
    "# Data Ingestion Pipeline"
   ]
  },
  {
   "cell_type": "markdown",
   "id": "7c7f5bb2",
   "metadata": {},
   "source": [
    "- Import important libraries\n",
    "- Move data from cached kagglehub dataset folder into data/raw folder in project\n"
   ]
  },
  {
   "cell_type": "code",
   "execution_count": 19,
   "id": "f62f9451",
   "metadata": {},
   "outputs": [],
   "source": [
    "import kagglehub\n",
    "import shutil\n",
    "from pathlib import Path"
   ]
  },
  {
   "cell_type": "code",
   "execution_count": 6,
   "id": "6c9caf7e",
   "metadata": {},
   "outputs": [
    {
     "name": "stdout",
     "output_type": "stream",
     "text": [
      "Downloading from https://www.kaggle.com/api/v1/datasets/download/bryanb/fifa-player-stats-database?dataset_version_number=35...\n"
     ]
    },
    {
     "name": "stderr",
     "output_type": "stream",
     "text": [
      "100%|██████████| 13.3M/13.3M [00:01<00:00, 7.26MB/s]"
     ]
    },
    {
     "name": "stdout",
     "output_type": "stream",
     "text": [
      "Extracting files...\n"
     ]
    },
    {
     "name": "stderr",
     "output_type": "stream",
     "text": [
      "\n"
     ]
    }
   ],
   "source": [
    "path = kagglehub.dataset_download(\"bryanb/fifa-player-stats-database\")"
   ]
  },
  {
   "cell_type": "code",
   "execution_count": 7,
   "id": "6b39b21b",
   "metadata": {},
   "outputs": [
    {
     "name": "stdout",
     "output_type": "stream",
     "text": [
      "Path to dataset files: C:\\Users\\HP\\.cache\\kagglehub\\datasets\\bryanb\\fifa-player-stats-database\\versions\\35\n"
     ]
    }
   ],
   "source": [
    "print(\"Path to dataset files:\", path)"
   ]
  },
  {
   "cell_type": "code",
   "execution_count": 20,
   "id": "fe8a672e",
   "metadata": {},
   "outputs": [
    {
     "name": "stdout",
     "output_type": "stream",
     "text": [
      "data exists!\n"
     ]
    }
   ],
   "source": [
    "if Path(\"../data/raw/35\"):\n",
    "    print(\"data exists!\")\n",
    "else:    \n",
    "    shutil.move(f\"C:/Users/HP/.cache/kagglehub/datasets/bryanb/fifa-player-stats-database/versions/35\",\"../data/raw\")"
   ]
  },
  {
   "cell_type": "code",
   "execution_count": null,
   "id": "4176f5a5",
   "metadata": {},
   "outputs": [],
   "source": []
  }
 ],
 "metadata": {
  "kernelspec": {
   "display_name": "venv",
   "language": "python",
   "name": "python3"
  },
  "language_info": {
   "codemirror_mode": {
    "name": "ipython",
    "version": 3
   },
   "file_extension": ".py",
   "mimetype": "text/x-python",
   "name": "python",
   "nbconvert_exporter": "python",
   "pygments_lexer": "ipython3",
   "version": "3.13.1"
  }
 },
 "nbformat": 4,
 "nbformat_minor": 5
}
